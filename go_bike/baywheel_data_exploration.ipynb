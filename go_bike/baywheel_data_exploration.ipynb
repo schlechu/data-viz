{
 "cells": [
  {
   "cell_type": "markdown",
   "metadata": {},
   "source": [
    "# Analysis of Bay Wheels trip history data\n",
    "## by Ulrich Schlecht\n",
    "\n",
    "## Preliminary Wrangling\n",
    "\n",
    "Here, we will analyze trip history data of Bay Wheels for the year 2019. This data set includes information about individual rides made in a bike-sharing system covering the greater San Francisco Bay area. The main dependent variable that we will explore is time of ride (encoded by the variable duration_sec). "
   ]
  },
  {
   "cell_type": "code",
   "execution_count": 1,
   "metadata": {
    "scrolled": true
   },
   "outputs": [],
   "source": [
    "# import all packages and set plots to be embedded inline\n",
    "import numpy as np\n",
    "import pandas as pd\n",
    "import seaborn as sb\n",
    "import matplotlib.pyplot as plt\n",
    "\n",
    "from io import BytesIO\n",
    "from zipfile import ZipFile\n",
    "from urllib.request import urlopen\n",
    "\n",
    "from math import sin, cos, sqrt, atan2, radians\n",
    "\n",
    "%matplotlib inline"
   ]
  },
  {
   "cell_type": "markdown",
   "metadata": {},
   "source": [
    "### Data Gathering"
   ]
  },
  {
   "cell_type": "markdown",
   "metadata": {},
   "source": [
    "First, download and unzip 12 raw data files containing the trip history data for each month of 2019. "
   ]
  },
  {
   "cell_type": "code",
   "execution_count": 2,
   "metadata": {},
   "outputs": [],
   "source": [
    "# initialize a list that will contain the file names of the 12 zip files\n",
    "files = []\n",
    "\n",
    "# create a list of strings of the format '01', '02' ... '12'\n",
    "months = [\"{:02d}\".format(digit) for digit in range(1,13)]\n",
    "\n",
    "# iteratetively download and unzip the 12 files\n",
    "for count, month in enumerate(months):\n",
    "    if count < 4:\n",
    "        file = ('2019'+month+'-fordgobike-tripdata.csv.zip')\n",
    "    else:\n",
    "        file = ('2019'+month+'-baywheels-tripdata.csv.zip')        \n",
    "    \n",
    "    files.append(file)\n",
    "    zipurl = 'https://s3.amazonaws.com/baywheels-data/'+file\n",
    "    with urlopen(zipurl) as zipresp:\n",
    "        with ZipFile(BytesIO(zipresp.read())) as zfile:\n",
    "            zfile.extractall()"
   ]
  },
  {
   "cell_type": "code",
   "execution_count": 3,
   "metadata": {
    "scrolled": true
   },
   "outputs": [],
   "source": [
    "# remove the .zip extension in the file names in list files\n",
    "files = [file.replace('.zip', '') for file in files]\n",
    "\n",
    "# read the first .csv file into a pandas dataframe\n",
    "df = pd.read_csv(files[0], dtype=str)\n",
    "\n",
    "# not all .csv files have exactly the same columns\n",
    "# extract the column names of the 14 columns that we will use in our analysis\n",
    "col_names = df.columns[range(0,13)]\n",
    "\n",
    "# iteratively read the remaining 11 .csv files and concatenate to create a master dataframe\n",
    "for i in range(1,12):\n",
    "        temp = pd.read_csv(files[i], dtype=str)\n",
    "        df = pd.concat([df[list(col_names)], temp[list(col_names)]])       "
   ]
  },
  {
   "cell_type": "markdown",
   "metadata": {},
   "source": [
    "### Data Cleaning"
   ]
  },
  {
   "cell_type": "markdown",
   "metadata": {},
   "source": [
    "Next, have a look at the overall structure and content of the dataframe. "
   ]
  },
  {
   "cell_type": "code",
   "execution_count": 4,
   "metadata": {},
   "outputs": [
    {
     "data": {
      "text/plain": [
       "(2506983, 13)"
      ]
     },
     "execution_count": 4,
     "metadata": {},
     "output_type": "execute_result"
    }
   ],
   "source": [
    "df.shape"
   ]
  },
  {
   "cell_type": "code",
   "execution_count": 5,
   "metadata": {
    "scrolled": true
   },
   "outputs": [
    {
     "name": "stdout",
     "output_type": "stream",
     "text": [
      "<class 'pandas.core.frame.DataFrame'>\n",
      "Int64Index: 2506983 entries, 0 to 150101\n",
      "Data columns (total 13 columns):\n",
      " #   Column                   Dtype \n",
      "---  ------                   ----- \n",
      " 0   duration_sec             object\n",
      " 1   start_time               object\n",
      " 2   end_time                 object\n",
      " 3   start_station_id         object\n",
      " 4   start_station_name       object\n",
      " 5   start_station_latitude   object\n",
      " 6   start_station_longitude  object\n",
      " 7   end_station_id           object\n",
      " 8   end_station_name         object\n",
      " 9   end_station_latitude     object\n",
      " 10  end_station_longitude    object\n",
      " 11  bike_id                  object\n",
      " 12  user_type                object\n",
      "dtypes: object(13)\n",
      "memory usage: 267.8+ MB\n"
     ]
    }
   ],
   "source": [
    "df.info()"
   ]
  },
  {
   "cell_type": "markdown",
   "metadata": {},
   "source": [
    "During the data reading step `dtype=str` was used, and therefore all columns in df are objects; in the next step we'll adjust data types to facilitate data exploration. "
   ]
  },
  {
   "cell_type": "code",
   "execution_count": 6,
   "metadata": {},
   "outputs": [],
   "source": [
    "# convert start_time and end_time into datetime objects\n",
    "df.start_time = pd.to_datetime(df.start_time)\n",
    "df.end_time = pd.to_datetime(df.end_time)\n",
    "\n",
    "# extract name of month, name of weekday, hour of day for each row\n",
    "df['month'] = pd.DatetimeIndex(df['start_time']).month_name()\n",
    "df['weekday'] = pd.DatetimeIndex(df['start_time']).day_name()\n",
    "df['hour'] = pd.DatetimeIndex(df['start_time']).hour\n",
    "\n",
    "# convert month, weekday, and user_type to categorical\n",
    "df.month = pd.Categorical(df.month, categories=['January','February','March','April','May','June','July','August','September','October','November','December'], ordered=True)\n",
    "df.weekday = pd.Categorical(df.weekday, categories=['Monday','Tuesday','Wednesday','Thursday','Friday','Saturday','Sunday'], ordered=True)\n",
    "df.user_type = pd.Categorical(df.user_type, categories=['Subscriber','Customer'], ordered=True)\n",
    "\n",
    "# convert duration_sec to integers and latitude/longitude values to floats\n",
    "df['duration_sec'] = df.duration_sec.astype(int)\n",
    "df['start_station_latitude'] = df.start_station_latitude.astype(float)\n",
    "df['start_station_longitude'] = df.start_station_longitude.astype(float)\n",
    "df['end_station_latitude'] = df.end_station_latitude.astype(float)\n",
    "df['end_station_longitude'] = df.end_station_longitude.astype(float)"
   ]
  },
  {
   "cell_type": "code",
   "execution_count": 7,
   "metadata": {},
   "outputs": [
    {
     "data": {
      "text/html": [
       "<div>\n",
       "<style scoped>\n",
       "    .dataframe tbody tr th:only-of-type {\n",
       "        vertical-align: middle;\n",
       "    }\n",
       "\n",
       "    .dataframe tbody tr th {\n",
       "        vertical-align: top;\n",
       "    }\n",
       "\n",
       "    .dataframe thead th {\n",
       "        text-align: right;\n",
       "    }\n",
       "</style>\n",
       "<table border=\"1\" class=\"dataframe\">\n",
       "  <thead>\n",
       "    <tr style=\"text-align: right;\">\n",
       "      <th></th>\n",
       "      <th>duration_sec</th>\n",
       "      <th>start_time</th>\n",
       "      <th>end_time</th>\n",
       "      <th>start_station_id</th>\n",
       "      <th>start_station_name</th>\n",
       "      <th>start_station_latitude</th>\n",
       "      <th>start_station_longitude</th>\n",
       "      <th>end_station_id</th>\n",
       "      <th>end_station_name</th>\n",
       "      <th>end_station_latitude</th>\n",
       "      <th>end_station_longitude</th>\n",
       "      <th>bike_id</th>\n",
       "      <th>user_type</th>\n",
       "      <th>month</th>\n",
       "      <th>weekday</th>\n",
       "      <th>hour</th>\n",
       "    </tr>\n",
       "  </thead>\n",
       "  <tbody>\n",
       "    <tr>\n",
       "      <th>0</th>\n",
       "      <td>80825</td>\n",
       "      <td>2019-01-31 17:57:44.613</td>\n",
       "      <td>2019-02-01 16:24:49.864</td>\n",
       "      <td>229</td>\n",
       "      <td>Foothill Blvd at 42nd Ave</td>\n",
       "      <td>37.775745</td>\n",
       "      <td>-122.213037</td>\n",
       "      <td>196</td>\n",
       "      <td>Grand Ave at Perkins St</td>\n",
       "      <td>37.808894</td>\n",
       "      <td>-122.256460</td>\n",
       "      <td>4861</td>\n",
       "      <td>Subscriber</td>\n",
       "      <td>January</td>\n",
       "      <td>Thursday</td>\n",
       "      <td>17</td>\n",
       "    </tr>\n",
       "    <tr>\n",
       "      <th>1</th>\n",
       "      <td>65900</td>\n",
       "      <td>2019-01-31 20:58:33.886</td>\n",
       "      <td>2019-02-01 15:16:54.173</td>\n",
       "      <td>4</td>\n",
       "      <td>Cyril Magnin St at Ellis St</td>\n",
       "      <td>37.785881</td>\n",
       "      <td>-122.408915</td>\n",
       "      <td>134</td>\n",
       "      <td>Valencia St at 24th St</td>\n",
       "      <td>37.752428</td>\n",
       "      <td>-122.420628</td>\n",
       "      <td>5506</td>\n",
       "      <td>Subscriber</td>\n",
       "      <td>January</td>\n",
       "      <td>Thursday</td>\n",
       "      <td>20</td>\n",
       "    </tr>\n",
       "    <tr>\n",
       "      <th>2</th>\n",
       "      <td>62633</td>\n",
       "      <td>2019-01-31 18:06:52.924</td>\n",
       "      <td>2019-02-01 11:30:46.530</td>\n",
       "      <td>245</td>\n",
       "      <td>Downtown Berkeley BART</td>\n",
       "      <td>37.870139</td>\n",
       "      <td>-122.268422</td>\n",
       "      <td>157</td>\n",
       "      <td>65th St at Hollis St</td>\n",
       "      <td>37.846784</td>\n",
       "      <td>-122.291376</td>\n",
       "      <td>2717</td>\n",
       "      <td>Customer</td>\n",
       "      <td>January</td>\n",
       "      <td>Thursday</td>\n",
       "      <td>18</td>\n",
       "    </tr>\n",
       "    <tr>\n",
       "      <th>3</th>\n",
       "      <td>44680</td>\n",
       "      <td>2019-01-31 19:46:09.719</td>\n",
       "      <td>2019-02-01 08:10:50.318</td>\n",
       "      <td>85</td>\n",
       "      <td>Church St at Duboce Ave</td>\n",
       "      <td>37.770083</td>\n",
       "      <td>-122.429156</td>\n",
       "      <td>53</td>\n",
       "      <td>Grove St at Divisadero</td>\n",
       "      <td>37.775946</td>\n",
       "      <td>-122.437777</td>\n",
       "      <td>4557</td>\n",
       "      <td>Customer</td>\n",
       "      <td>January</td>\n",
       "      <td>Thursday</td>\n",
       "      <td>19</td>\n",
       "    </tr>\n",
       "    <tr>\n",
       "      <th>4</th>\n",
       "      <td>60709</td>\n",
       "      <td>2019-01-31 14:19:01.541</td>\n",
       "      <td>2019-02-01 07:10:51.065</td>\n",
       "      <td>16</td>\n",
       "      <td>Steuart St at Market St</td>\n",
       "      <td>37.794130</td>\n",
       "      <td>-122.394430</td>\n",
       "      <td>28</td>\n",
       "      <td>The Embarcadero at Bryant St</td>\n",
       "      <td>37.787168</td>\n",
       "      <td>-122.388098</td>\n",
       "      <td>2100</td>\n",
       "      <td>Customer</td>\n",
       "      <td>January</td>\n",
       "      <td>Thursday</td>\n",
       "      <td>14</td>\n",
       "    </tr>\n",
       "  </tbody>\n",
       "</table>\n",
       "</div>"
      ],
      "text/plain": [
       "   duration_sec              start_time                end_time  \\\n",
       "0         80825 2019-01-31 17:57:44.613 2019-02-01 16:24:49.864   \n",
       "1         65900 2019-01-31 20:58:33.886 2019-02-01 15:16:54.173   \n",
       "2         62633 2019-01-31 18:06:52.924 2019-02-01 11:30:46.530   \n",
       "3         44680 2019-01-31 19:46:09.719 2019-02-01 08:10:50.318   \n",
       "4         60709 2019-01-31 14:19:01.541 2019-02-01 07:10:51.065   \n",
       "\n",
       "  start_station_id           start_station_name  start_station_latitude  \\\n",
       "0              229    Foothill Blvd at 42nd Ave               37.775745   \n",
       "1                4  Cyril Magnin St at Ellis St               37.785881   \n",
       "2              245       Downtown Berkeley BART               37.870139   \n",
       "3               85      Church St at Duboce Ave               37.770083   \n",
       "4               16      Steuart St at Market St               37.794130   \n",
       "\n",
       "   start_station_longitude end_station_id              end_station_name  \\\n",
       "0              -122.213037            196       Grand Ave at Perkins St   \n",
       "1              -122.408915            134        Valencia St at 24th St   \n",
       "2              -122.268422            157          65th St at Hollis St   \n",
       "3              -122.429156             53        Grove St at Divisadero   \n",
       "4              -122.394430             28  The Embarcadero at Bryant St   \n",
       "\n",
       "   end_station_latitude  end_station_longitude bike_id   user_type    month  \\\n",
       "0             37.808894            -122.256460    4861  Subscriber  January   \n",
       "1             37.752428            -122.420628    5506  Subscriber  January   \n",
       "2             37.846784            -122.291376    2717    Customer  January   \n",
       "3             37.775946            -122.437777    4557    Customer  January   \n",
       "4             37.787168            -122.388098    2100    Customer  January   \n",
       "\n",
       "    weekday  hour  \n",
       "0  Thursday    17  \n",
       "1  Thursday    20  \n",
       "2  Thursday    18  \n",
       "3  Thursday    19  \n",
       "4  Thursday    14  "
      ]
     },
     "execution_count": 7,
     "metadata": {},
     "output_type": "execute_result"
    }
   ],
   "source": [
    "df.head()"
   ]
  },
  {
   "cell_type": "markdown",
   "metadata": {},
   "source": [
    "We also want to calculate the distance that was covered during the trip. As a crude approximation the latitude and longitude of the start and end station will be used. Code from the following website was repurposed here: \n",
    "\n",
    "https://stackoverflow.com/questions/19412462/getting-distance-between-two-points-based-on-latitude-longitude"
   ]
  },
  {
   "cell_type": "code",
   "execution_count": 8,
   "metadata": {},
   "outputs": [],
   "source": [
    "# extract latitude and longitude from start and end station\n",
    "lat_start = list(df['start_station_latitude'])\n",
    "lat_end   = list(df['end_station_latitude'])\n",
    "\n",
    "lon_start = list(df['start_station_longitude'])\n",
    "lon_end   = list(df['end_station_longitude'])"
   ]
  },
  {
   "cell_type": "code",
   "execution_count": 9,
   "metadata": {},
   "outputs": [],
   "source": [
    "distance = []\n",
    "R = 6373.0\n",
    "\n",
    "for lat1, lat2, lon1, lon2 in zip(lat_start, lat_end, lon_start, lon_end):\n",
    "    \n",
    "    lat1 = radians(lat1)\n",
    "    lon1 = radians(lon1)\n",
    "    lat2 = radians(lat2)\n",
    "    lon2 = radians(lon2)\n",
    "\n",
    "    dlon = lon2 - lon1\n",
    "    dlat = lat2 - lat1\n",
    "    \n",
    "    a = (sin(dlat/2))**2 + cos(lat1) * cos(lat2) * (sin(dlon/2))**2\n",
    "    c = 2 * atan2(sqrt(a), sqrt(1-a))\n",
    "    d = int(R * c *1000)\n",
    "    distance.append(d)\n",
    "df['distance'] = distance"
   ]
  },
  {
   "cell_type": "code",
   "execution_count": 10,
   "metadata": {},
   "outputs": [
    {
     "name": "stdout",
     "output_type": "stream",
     "text": [
      "<class 'pandas.core.frame.DataFrame'>\n",
      "Int64Index: 2506983 entries, 0 to 150101\n",
      "Data columns (total 17 columns):\n",
      " #   Column                   Dtype         \n",
      "---  ------                   -----         \n",
      " 0   duration_sec             int64         \n",
      " 1   start_time               datetime64[ns]\n",
      " 2   end_time                 datetime64[ns]\n",
      " 3   start_station_id         object        \n",
      " 4   start_station_name       object        \n",
      " 5   start_station_latitude   float64       \n",
      " 6   start_station_longitude  float64       \n",
      " 7   end_station_id           object        \n",
      " 8   end_station_name         object        \n",
      " 9   end_station_latitude     float64       \n",
      " 10  end_station_longitude    float64       \n",
      " 11  bike_id                  object        \n",
      " 12  user_type                category      \n",
      " 13  month                    category      \n",
      " 14  weekday                  category      \n",
      " 15  hour                     int64         \n",
      " 16  distance                 int64         \n",
      "dtypes: category(3), datetime64[ns](2), float64(4), int64(3), object(5)\n",
      "memory usage: 294.1+ MB\n"
     ]
    }
   ],
   "source": [
    "df.info()"
   ]
  },
  {
   "cell_type": "code",
   "execution_count": 11,
   "metadata": {},
   "outputs": [
    {
     "data": {
      "text/html": [
       "<div>\n",
       "<style scoped>\n",
       "    .dataframe tbody tr th:only-of-type {\n",
       "        vertical-align: middle;\n",
       "    }\n",
       "\n",
       "    .dataframe tbody tr th {\n",
       "        vertical-align: top;\n",
       "    }\n",
       "\n",
       "    .dataframe thead th {\n",
       "        text-align: right;\n",
       "    }\n",
       "</style>\n",
       "<table border=\"1\" class=\"dataframe\">\n",
       "  <thead>\n",
       "    <tr style=\"text-align: right;\">\n",
       "      <th></th>\n",
       "      <th>duration_sec</th>\n",
       "      <th>start_time</th>\n",
       "      <th>end_time</th>\n",
       "      <th>start_station_id</th>\n",
       "      <th>start_station_name</th>\n",
       "      <th>start_station_latitude</th>\n",
       "      <th>start_station_longitude</th>\n",
       "      <th>end_station_id</th>\n",
       "      <th>end_station_name</th>\n",
       "      <th>end_station_latitude</th>\n",
       "      <th>end_station_longitude</th>\n",
       "      <th>bike_id</th>\n",
       "      <th>user_type</th>\n",
       "      <th>month</th>\n",
       "      <th>weekday</th>\n",
       "      <th>hour</th>\n",
       "      <th>distance</th>\n",
       "    </tr>\n",
       "  </thead>\n",
       "  <tbody>\n",
       "    <tr>\n",
       "      <th>0</th>\n",
       "      <td>80825</td>\n",
       "      <td>2019-01-31 17:57:44.613</td>\n",
       "      <td>2019-02-01 16:24:49.864</td>\n",
       "      <td>229</td>\n",
       "      <td>Foothill Blvd at 42nd Ave</td>\n",
       "      <td>37.775745</td>\n",
       "      <td>-122.213037</td>\n",
       "      <td>196</td>\n",
       "      <td>Grand Ave at Perkins St</td>\n",
       "      <td>37.808894</td>\n",
       "      <td>-122.256460</td>\n",
       "      <td>4861</td>\n",
       "      <td>Subscriber</td>\n",
       "      <td>January</td>\n",
       "      <td>Thursday</td>\n",
       "      <td>17</td>\n",
       "      <td>5306</td>\n",
       "    </tr>\n",
       "    <tr>\n",
       "      <th>1</th>\n",
       "      <td>65900</td>\n",
       "      <td>2019-01-31 20:58:33.886</td>\n",
       "      <td>2019-02-01 15:16:54.173</td>\n",
       "      <td>4</td>\n",
       "      <td>Cyril Magnin St at Ellis St</td>\n",
       "      <td>37.785881</td>\n",
       "      <td>-122.408915</td>\n",
       "      <td>134</td>\n",
       "      <td>Valencia St at 24th St</td>\n",
       "      <td>37.752428</td>\n",
       "      <td>-122.420628</td>\n",
       "      <td>5506</td>\n",
       "      <td>Subscriber</td>\n",
       "      <td>January</td>\n",
       "      <td>Thursday</td>\n",
       "      <td>20</td>\n",
       "      <td>3860</td>\n",
       "    </tr>\n",
       "    <tr>\n",
       "      <th>2</th>\n",
       "      <td>62633</td>\n",
       "      <td>2019-01-31 18:06:52.924</td>\n",
       "      <td>2019-02-01 11:30:46.530</td>\n",
       "      <td>245</td>\n",
       "      <td>Downtown Berkeley BART</td>\n",
       "      <td>37.870139</td>\n",
       "      <td>-122.268422</td>\n",
       "      <td>157</td>\n",
       "      <td>65th St at Hollis St</td>\n",
       "      <td>37.846784</td>\n",
       "      <td>-122.291376</td>\n",
       "      <td>2717</td>\n",
       "      <td>Customer</td>\n",
       "      <td>January</td>\n",
       "      <td>Thursday</td>\n",
       "      <td>18</td>\n",
       "      <td>3288</td>\n",
       "    </tr>\n",
       "    <tr>\n",
       "      <th>3</th>\n",
       "      <td>44680</td>\n",
       "      <td>2019-01-31 19:46:09.719</td>\n",
       "      <td>2019-02-01 08:10:50.318</td>\n",
       "      <td>85</td>\n",
       "      <td>Church St at Duboce Ave</td>\n",
       "      <td>37.770083</td>\n",
       "      <td>-122.429156</td>\n",
       "      <td>53</td>\n",
       "      <td>Grove St at Divisadero</td>\n",
       "      <td>37.775946</td>\n",
       "      <td>-122.437777</td>\n",
       "      <td>4557</td>\n",
       "      <td>Customer</td>\n",
       "      <td>January</td>\n",
       "      <td>Thursday</td>\n",
       "      <td>19</td>\n",
       "      <td>999</td>\n",
       "    </tr>\n",
       "    <tr>\n",
       "      <th>4</th>\n",
       "      <td>60709</td>\n",
       "      <td>2019-01-31 14:19:01.541</td>\n",
       "      <td>2019-02-01 07:10:51.065</td>\n",
       "      <td>16</td>\n",
       "      <td>Steuart St at Market St</td>\n",
       "      <td>37.794130</td>\n",
       "      <td>-122.394430</td>\n",
       "      <td>28</td>\n",
       "      <td>The Embarcadero at Bryant St</td>\n",
       "      <td>37.787168</td>\n",
       "      <td>-122.388098</td>\n",
       "      <td>2100</td>\n",
       "      <td>Customer</td>\n",
       "      <td>January</td>\n",
       "      <td>Thursday</td>\n",
       "      <td>14</td>\n",
       "      <td>953</td>\n",
       "    </tr>\n",
       "  </tbody>\n",
       "</table>\n",
       "</div>"
      ],
      "text/plain": [
       "   duration_sec              start_time                end_time  \\\n",
       "0         80825 2019-01-31 17:57:44.613 2019-02-01 16:24:49.864   \n",
       "1         65900 2019-01-31 20:58:33.886 2019-02-01 15:16:54.173   \n",
       "2         62633 2019-01-31 18:06:52.924 2019-02-01 11:30:46.530   \n",
       "3         44680 2019-01-31 19:46:09.719 2019-02-01 08:10:50.318   \n",
       "4         60709 2019-01-31 14:19:01.541 2019-02-01 07:10:51.065   \n",
       "\n",
       "  start_station_id           start_station_name  start_station_latitude  \\\n",
       "0              229    Foothill Blvd at 42nd Ave               37.775745   \n",
       "1                4  Cyril Magnin St at Ellis St               37.785881   \n",
       "2              245       Downtown Berkeley BART               37.870139   \n",
       "3               85      Church St at Duboce Ave               37.770083   \n",
       "4               16      Steuart St at Market St               37.794130   \n",
       "\n",
       "   start_station_longitude end_station_id              end_station_name  \\\n",
       "0              -122.213037            196       Grand Ave at Perkins St   \n",
       "1              -122.408915            134        Valencia St at 24th St   \n",
       "2              -122.268422            157          65th St at Hollis St   \n",
       "3              -122.429156             53        Grove St at Divisadero   \n",
       "4              -122.394430             28  The Embarcadero at Bryant St   \n",
       "\n",
       "   end_station_latitude  end_station_longitude bike_id   user_type    month  \\\n",
       "0             37.808894            -122.256460    4861  Subscriber  January   \n",
       "1             37.752428            -122.420628    5506  Subscriber  January   \n",
       "2             37.846784            -122.291376    2717    Customer  January   \n",
       "3             37.775946            -122.437777    4557    Customer  January   \n",
       "4             37.787168            -122.388098    2100    Customer  January   \n",
       "\n",
       "    weekday  hour  distance  \n",
       "0  Thursday    17      5306  \n",
       "1  Thursday    20      3860  \n",
       "2  Thursday    18      3288  \n",
       "3  Thursday    19       999  \n",
       "4  Thursday    14       953  "
      ]
     },
     "execution_count": 11,
     "metadata": {},
     "output_type": "execute_result"
    }
   ],
   "source": [
    "df.head()"
   ]
  },
  {
   "cell_type": "code",
   "execution_count": 12,
   "metadata": {},
   "outputs": [
    {
     "data": {
      "text/html": [
       "<div>\n",
       "<style scoped>\n",
       "    .dataframe tbody tr th:only-of-type {\n",
       "        vertical-align: middle;\n",
       "    }\n",
       "\n",
       "    .dataframe tbody tr th {\n",
       "        vertical-align: top;\n",
       "    }\n",
       "\n",
       "    .dataframe thead th {\n",
       "        text-align: right;\n",
       "    }\n",
       "</style>\n",
       "<table border=\"1\" class=\"dataframe\">\n",
       "  <thead>\n",
       "    <tr style=\"text-align: right;\">\n",
       "      <th></th>\n",
       "      <th>duration_sec</th>\n",
       "      <th>start_station_latitude</th>\n",
       "      <th>start_station_longitude</th>\n",
       "      <th>end_station_latitude</th>\n",
       "      <th>end_station_longitude</th>\n",
       "      <th>hour</th>\n",
       "      <th>distance</th>\n",
       "    </tr>\n",
       "  </thead>\n",
       "  <tbody>\n",
       "    <tr>\n",
       "      <th>count</th>\n",
       "      <td>2.506983e+06</td>\n",
       "      <td>2.506983e+06</td>\n",
       "      <td>2.506983e+06</td>\n",
       "      <td>2.506983e+06</td>\n",
       "      <td>2.506983e+06</td>\n",
       "      <td>2.506983e+06</td>\n",
       "      <td>2.506983e+06</td>\n",
       "    </tr>\n",
       "    <tr>\n",
       "      <th>mean</th>\n",
       "      <td>8.076483e+02</td>\n",
       "      <td>3.776506e+01</td>\n",
       "      <td>-1.223499e+02</td>\n",
       "      <td>3.776422e+01</td>\n",
       "      <td>-1.223459e+02</td>\n",
       "      <td>1.352904e+01</td>\n",
       "      <td>2.168166e+03</td>\n",
       "    </tr>\n",
       "    <tr>\n",
       "      <th>std</th>\n",
       "      <td>1.974714e+03</td>\n",
       "      <td>1.363698e-01</td>\n",
       "      <td>3.089648e-01</td>\n",
       "      <td>2.392885e-01</td>\n",
       "      <td>7.080417e-01</td>\n",
       "      <td>4.804546e+00</td>\n",
       "      <td>7.752484e+04</td>\n",
       "    </tr>\n",
       "    <tr>\n",
       "      <th>min</th>\n",
       "      <td>6.000000e+01</td>\n",
       "      <td>0.000000e+00</td>\n",
       "      <td>-1.225143e+02</td>\n",
       "      <td>0.000000e+00</td>\n",
       "      <td>-1.225143e+02</td>\n",
       "      <td>0.000000e+00</td>\n",
       "      <td>0.000000e+00</td>\n",
       "    </tr>\n",
       "    <tr>\n",
       "      <th>25%</th>\n",
       "      <td>3.590000e+02</td>\n",
       "      <td>3.776931e+01</td>\n",
       "      <td>-1.224130e+02</td>\n",
       "      <td>3.777003e+01</td>\n",
       "      <td>-1.224117e+02</td>\n",
       "      <td>9.000000e+00</td>\n",
       "      <td>9.280000e+02</td>\n",
       "    </tr>\n",
       "    <tr>\n",
       "      <th>50%</th>\n",
       "      <td>5.710000e+02</td>\n",
       "      <td>3.778053e+01</td>\n",
       "      <td>-1.223983e+02</td>\n",
       "      <td>3.778076e+01</td>\n",
       "      <td>-1.223981e+02</td>\n",
       "      <td>1.400000e+01</td>\n",
       "      <td>1.454000e+03</td>\n",
       "    </tr>\n",
       "    <tr>\n",
       "      <th>75%</th>\n",
       "      <td>8.870000e+02</td>\n",
       "      <td>3.779539e+01</td>\n",
       "      <td>-1.222914e+02</td>\n",
       "      <td>3.779587e+01</td>\n",
       "      <td>-1.222934e+02</td>\n",
       "      <td>1.700000e+01</td>\n",
       "      <td>2.237000e+03</td>\n",
       "    </tr>\n",
       "    <tr>\n",
       "      <th>max</th>\n",
       "      <td>9.121100e+05</td>\n",
       "      <td>4.551000e+01</td>\n",
       "      <td>0.000000e+00</td>\n",
       "      <td>4.551000e+01</td>\n",
       "      <td>0.000000e+00</td>\n",
       "      <td>2.300000e+01</td>\n",
       "      <td>1.280374e+07</td>\n",
       "    </tr>\n",
       "  </tbody>\n",
       "</table>\n",
       "</div>"
      ],
      "text/plain": [
       "       duration_sec  start_station_latitude  start_station_longitude  \\\n",
       "count  2.506983e+06            2.506983e+06             2.506983e+06   \n",
       "mean   8.076483e+02            3.776506e+01            -1.223499e+02   \n",
       "std    1.974714e+03            1.363698e-01             3.089648e-01   \n",
       "min    6.000000e+01            0.000000e+00            -1.225143e+02   \n",
       "25%    3.590000e+02            3.776931e+01            -1.224130e+02   \n",
       "50%    5.710000e+02            3.778053e+01            -1.223983e+02   \n",
       "75%    8.870000e+02            3.779539e+01            -1.222914e+02   \n",
       "max    9.121100e+05            4.551000e+01             0.000000e+00   \n",
       "\n",
       "       end_station_latitude  end_station_longitude          hour      distance  \n",
       "count          2.506983e+06           2.506983e+06  2.506983e+06  2.506983e+06  \n",
       "mean           3.776422e+01          -1.223459e+02  1.352904e+01  2.168166e+03  \n",
       "std            2.392885e-01           7.080417e-01  4.804546e+00  7.752484e+04  \n",
       "min            0.000000e+00          -1.225143e+02  0.000000e+00  0.000000e+00  \n",
       "25%            3.777003e+01          -1.224117e+02  9.000000e+00  9.280000e+02  \n",
       "50%            3.778076e+01          -1.223981e+02  1.400000e+01  1.454000e+03  \n",
       "75%            3.779587e+01          -1.222934e+02  1.700000e+01  2.237000e+03  \n",
       "max            4.551000e+01           0.000000e+00  2.300000e+01  1.280374e+07  "
      ]
     },
     "execution_count": 12,
     "metadata": {},
     "output_type": "execute_result"
    }
   ],
   "source": [
    "df.describe()"
   ]
  },
  {
   "cell_type": "code",
   "execution_count": 13,
   "metadata": {},
   "outputs": [
    {
     "data": {
      "text/plain": [
       "(2506983, 17)"
      ]
     },
     "execution_count": 13,
     "metadata": {},
     "output_type": "execute_result"
    }
   ],
   "source": [
    "df.shape"
   ]
  },
  {
   "cell_type": "markdown",
   "metadata": {},
   "source": [
    "### Conclusions so far\n",
    "\n",
    "- The data we will explore here consists of slightly more than 2.5 million entries (i.e. records of individual trips) and 17 columns with information about trip duration, month, week day, hour of trip, distance between start and end station among others. \n",
    "\n",
    "- One of the features of interest in this dataset is trip duration. Other features that will support the investigation of the main feature are month, week day, and hour of day the trips were made, as well as user type, and distance. "
   ]
  },
  {
   "cell_type": "markdown",
   "metadata": {},
   "source": [
    "## Univariate Exploration"
   ]
  },
  {
   "cell_type": "markdown",
   "metadata": {},
   "source": [
    "### Trip duration"
   ]
  },
  {
   "cell_type": "markdown",
   "metadata": {},
   "source": [
    "Let's have a look at the dependent variable **duration_sec**. Since this is a quantitative continuos variable we will plot the data as a histogram. "
   ]
  },
  {
   "cell_type": "code",
   "execution_count": 14,
   "metadata": {},
   "outputs": [
    {
     "data": {
      "image/png": "[encoded data removed]",
      "text/plain": [
       "<Figure size 432x288 with 1 Axes>"
      ]
     },
     "metadata": {
      "needs_background": "light"
     },
     "output_type": "display_data"
    }
   ],
   "source": [
    "plt.hist(df.duration_sec)\n",
    "plt.xlabel('trip duration (seconds)')\n",
    "plt.ylabel('frequency')\n",
    "plt.show()"
   ]
  },
  {
   "cell_type": "markdown",
   "metadata": {},
   "source": [
    "The vast majority of trips had a duration shorter than 100,000 seconds (corresponding to approxiamtely 28 hours). Let's explore the trips that lasted longer than this. "
   ]
  },
  {
   "cell_type": "code",
   "execution_count": 15,
   "metadata": {},
   "outputs": [
    {
     "data": {
      "text/html": [
       "<div>\n",
       "<style scoped>\n",
       "    .dataframe tbody tr th:only-of-type {\n",
       "        vertical-align: middle;\n",
       "    }\n",
       "\n",
       "    .dataframe tbody tr th {\n",
       "        vertical-align: top;\n",
       "    }\n",
       "\n",
       "    .dataframe thead th {\n",
       "        text-align: right;\n",
       "    }\n",
       "</style>\n",
       "<table border=\"1\" class=\"dataframe\">\n",
       "  <thead>\n",
       "    <tr style=\"text-align: right;\">\n",
       "      <th></th>\n",
       "      <th>duration_sec</th>\n",
       "      <th>start_time</th>\n",
       "      <th>end_time</th>\n",
       "      <th>start_station_id</th>\n",
       "      <th>start_station_name</th>\n",
       "      <th>start_station_latitude</th>\n",
       "      <th>start_station_longitude</th>\n",
       "      <th>end_station_id</th>\n",
       "      <th>end_station_name</th>\n",
       "      <th>end_station_latitude</th>\n",
       "      <th>end_station_longitude</th>\n",
       "      <th>bike_id</th>\n",
       "      <th>user_type</th>\n",
       "      <th>month</th>\n",
       "      <th>weekday</th>\n",
       "      <th>hour</th>\n",
       "      <th>distance</th>\n",
       "    </tr>\n",
       "  </thead>\n",
       "  <tbody>\n",
       "    <tr>\n",
       "      <th>124395</th>\n",
       "      <td>912110</td>\n",
       "      <td>2019-12-19 23:15:36</td>\n",
       "      <td>2019-12-30 12:37:26</td>\n",
       "      <td>NaN</td>\n",
       "      <td>NaN</td>\n",
       "      <td>37.323757</td>\n",
       "      <td>-121.878614</td>\n",
       "      <td>NaN</td>\n",
       "      <td>NaN</td>\n",
       "      <td>37.327656</td>\n",
       "      <td>-121.868598</td>\n",
       "      <td>614329</td>\n",
       "      <td>Customer</td>\n",
       "      <td>December</td>\n",
       "      <td>Thursday</td>\n",
       "      <td>23</td>\n",
       "      <td>986</td>\n",
       "    </tr>\n",
       "  </tbody>\n",
       "</table>\n",
       "</div>"
      ],
      "text/plain": [
       "        duration_sec          start_time            end_time start_station_id  \\\n",
       "124395        912110 2019-12-19 23:15:36 2019-12-30 12:37:26              NaN   \n",
       "\n",
       "       start_station_name  start_station_latitude  start_station_longitude  \\\n",
       "124395                NaN               37.323757              -121.878614   \n",
       "\n",
       "       end_station_id end_station_name  end_station_latitude  \\\n",
       "124395            NaN              NaN             37.327656   \n",
       "\n",
       "        end_station_longitude bike_id user_type     month   weekday  hour  \\\n",
       "124395            -121.868598  614329  Customer  December  Thursday    23   \n",
       "\n",
       "        distance  \n",
       "124395       986  "
      ]
     },
     "execution_count": 15,
     "metadata": {},
     "output_type": "execute_result"
    }
   ],
   "source": [
    "df[df.duration_sec > 100000]"
   ]
  },
  {
   "cell_type": "markdown",
   "metadata": {},
   "source": [
    "There is a single trip that lasted about 10.5 days. This seems very unusual; we will remove this entry from the dataset. "
   ]
  },
  {
   "cell_type": "code",
   "execution_count": 16,
   "metadata": {},
   "outputs": [],
   "source": [
    "df = df.drop(124395, axis=0)"
   ]
  },
  {
   "cell_type": "code",
   "execution_count": 17,
   "metadata": {
    "scrolled": true
   },
   "outputs": [
    {
     "data": {
      "image/png": "[encoded data removed]",
      "text/plain": [
       "<Figure size 432x288 with 1 Axes>"
      ]
     },
     "metadata": {
      "needs_background": "light"
     },
     "output_type": "display_data"
    }
   ],
   "source": [
    "plt.hist(df.duration_sec)\n",
    "plt.xlabel('trip duration (seconds)')\n",
    "plt.ylabel('frequency')\n",
    "plt.show()"
   ]
  },
  {
   "cell_type": "markdown",
   "metadata": {},
   "source": [
    "The bulk of the trips are 10000 seconds or shorter. There is a strong right skew in the data. Let's log-transform this variable in order to deal with the wide range. "
   ]
  },
  {
   "cell_type": "code",
   "execution_count": 18,
   "metadata": {},
   "outputs": [],
   "source": [
    "df['duration_sec_log'] = np.log10(df.duration_sec)"
   ]
  },
  {
   "cell_type": "code",
   "execution_count": 19,
   "metadata": {},
   "outputs": [
    {
     "data": {
      "image/png": "[encoded data removed]",
      "text/plain": [
       "<Figure size 432x288 with 1 Axes>"
      ]
     },
     "metadata": {
      "needs_background": "light"
     },
     "output_type": "display_data"
    }
   ],
   "source": [
    "plt.hist(df.duration_sec_log)\n",
    "plt.xlabel('log10 of trip duration (seconds)')\n",
    "plt.ylabel('frequency')\n",
    "plt.show()"
   ]
  },
  {
   "cell_type": "markdown",
   "metadata": {},
   "source": [
    "Looks much better. Let's get more granularity by having smaller bin sizes. "
   ]
  },
  {
   "cell_type": "code",
   "execution_count": 20,
   "metadata": {
    "scrolled": true
   },
   "outputs": [
    {
     "data": {
      "text/plain": [
       "(1.7781512503836436, 4.935658386100634)"
      ]
     },
     "execution_count": 20,
     "metadata": {},
     "output_type": "execute_result"
    }
   ],
   "source": [
    "# let's find min and max to decide on range of the bins\n",
    "min(df.duration_sec_log), max(df.duration_sec_log)"
   ]
  },
  {
   "cell_type": "markdown",
   "metadata": {},
   "source": [
    "We will use a range from 1 to 5 and a step of 0.1 for the bins in the histogram. "
   ]
  },
  {
   "cell_type": "code",
   "execution_count": 21,
   "metadata": {},
   "outputs": [
    {
     "data": {
      "image/png": "[encoded data removed]",
      "text/plain": [
       "<Figure size 432x288 with 1 Axes>"
      ]
     },
     "metadata": {
      "needs_background": "light"
     },
     "output_type": "display_data"
    }
   ],
   "source": [
    "bin_edges = np.arange(1, 5, 0.1)\n",
    "\n",
    "plt.hist(df.duration_sec_log, bins=bin_edges)\n",
    "plt.xlabel('log10 of trip duration (seconds)')\n",
    "plt.ylabel('frequency')\n",
    "plt.show()\n"
   ]
  },
  {
   "cell_type": "code",
   "execution_count": 22,
   "metadata": {
    "scrolled": true
   },
   "outputs": [
    {
     "data": {
      "text/plain": [
       "2.756636108245848"
      ]
     },
     "execution_count": 22,
     "metadata": {},
     "output_type": "execute_result"
    }
   ],
   "source": [
    "df.duration_sec_log.median()"
   ]
  },
  {
   "cell_type": "code",
   "execution_count": 23,
   "metadata": {},
   "outputs": [
    {
     "data": {
      "text/plain": [
       "571.0000000000001"
      ]
     },
     "execution_count": 23,
     "metadata": {},
     "output_type": "execute_result"
    }
   ],
   "source": [
    "# calculate the trip duration for\n",
    "10**df.duration_sec_log.median()"
   ]
  },
  {
   "cell_type": "markdown",
   "metadata": {},
   "source": [
    "Looks close to normally distributed. The median trip duration is 571 seconds (close to 10 minutes). "
   ]
  },
  {
   "cell_type": "markdown",
   "metadata": {},
   "source": [
    "### Month, week day, hour of day"
   ]
  },
  {
   "cell_type": "markdown",
   "metadata": {},
   "source": [
    "Next, we will explore the timing of trips: month and week day and hour of day are qualitative ordinal data and will be explored with barplots. "
   ]
  },
  {
   "cell_type": "code",
   "execution_count": 25,
   "metadata": {},
   "outputs": [],
   "source": [
    "# let's choose one color for these barplots\n",
    "blue = sb.color_palette()[0]"
   ]
  },
  {
   "cell_type": "code",
   "execution_count": 26,
   "metadata": {},
   "outputs": [
    {
     "data": {
      "image/png": "[encoded data removed]",
      "text/plain": [
       "<Figure size 432x288 with 1 Axes>"
      ]
     },
     "metadata": {
      "needs_background": "light"
     },
     "output_type": "display_data"
    }
   ],
   "source": [
    "sb.countplot(x='month', data=df, color=blue)\n",
    "plt.xticks(rotation=90);"
   ]
  },
  {
   "cell_type": "markdown",
   "metadata": {},
   "source": [
    "There is quite a bit of variability of number of trips over the course of the year. Let's sort these to identify the months with the most and the fewest number of trips."
   ]
  },
  {
   "cell_type": "code",
   "execution_count": 27,
   "metadata": {},
   "outputs": [
    {
     "data": {
      "image/png": "[encoded data removed]",
      "text/plain": [
       "<Figure size 432x288 with 1 Axes>"
      ]
     },
     "metadata": {
      "needs_background": "light"
     },
     "output_type": "display_data"
    }
   ],
   "source": [
    "sb.countplot(data=df, x='month', color=blue, order=df.month.value_counts().index)\n",
    "plt.xticks(rotation=90);"
   ]
  },
  {
   "cell_type": "markdown",
   "metadata": {},
   "source": [
    "December had the fewest trips, which makes sense since it tends to be the coldest and rainiest month of the year in the bay area. July and March had the highest number of rides. "
   ]
  },
  {
   "cell_type": "code",
   "execution_count": 28,
   "metadata": {
    "scrolled": true
   },
   "outputs": [
    {
     "data": {
      "image/png": "[encoded data removed]",
      "text/plain": [
       "<Figure size 432x288 with 1 Axes>"
      ]
     },
     "metadata": {
      "needs_background": "light"
     },
     "output_type": "display_data"
    }
   ],
   "source": [
    "sb.countplot(x='weekday', data=df, color=blue)\n",
    "plt.xticks(rotation=90);"
   ]
  },
  {
   "cell_type": "markdown",
   "metadata": {},
   "source": [
    "Weekdays have similar number of rides per day (with Tuesday being the most popular day), in contrast bikes are much less used on Saturdays and Sundays. How about bike usages throughout the day?"
   ]
  },
  {
   "cell_type": "code",
   "execution_count": 30,
   "metadata": {},
   "outputs": [
    {
     "data": {
      "image/png": "[encoded data removed]",
      "text/plain": [
       "<Figure size 432x288 with 1 Axes>"
      ]
     },
     "metadata": {
      "needs_background": "light"
     },
     "output_type": "display_data"
    }
   ],
   "source": [
    "sb.countplot(x='hour', data=df, color=blue)\n",
    "plt.xticks(rotation=90);"
   ]
  },
  {
   "cell_type": "markdown",
   "metadata": {},
   "source": [
    "We observe a bimodal distribution with bikes being used most during peak morning (8 am) and evening (5 pm) rush hours. Very little use is observed during night between midnight and 5 am.  "
   ]
  },
  {
   "cell_type": "markdown",
   "metadata": {},
   "source": [
    "### Trip distance"
   ]
  },
  {
   "cell_type": "markdown",
   "metadata": {},
   "source": [
    "Next, we will explore the distance of trips: the corresponding variable is numerical and continuous. We will use a histogram to explore the variable. "
   ]
  },
  {
   "cell_type": "code",
   "execution_count": 31,
   "metadata": {
    "scrolled": true
   },
   "outputs": [
    {
     "data": {
      "image/png": "[encoded data removed]",
      "text/plain": [
       "<Figure size 432x288 with 1 Axes>"
      ]
     },
     "metadata": {
      "needs_background": "light"
     },
     "output_type": "display_data"
    }
   ],
   "source": [
    "plt.hist(df.distance)\n",
    "plt.xlabel('trip distance (meter)')\n",
    "plt.ylabel('frequency')\n",
    "plt.show()"
   ]
  },
  {
   "cell_type": "markdown",
   "metadata": {},
   "source": [
    "There are some very rare long trips in the dataset. Let's explore a little more to find out about these. "
   ]
  },
  {
   "cell_type": "code",
   "execution_count": 33,
   "metadata": {},
   "outputs": [
    {
     "data": {
      "text/html": [
       "<div>\n",
       "<style scoped>\n",
       "    .dataframe tbody tr th:only-of-type {\n",
       "        vertical-align: middle;\n",
       "    }\n",
       "\n",
       "    .dataframe tbody tr th {\n",
       "        vertical-align: top;\n",
       "    }\n",
       "\n",
       "    .dataframe thead th {\n",
       "        text-align: right;\n",
       "    }\n",
       "</style>\n",
       "<table border=\"1\" class=\"dataframe\">\n",
       "  <thead>\n",
       "    <tr style=\"text-align: right;\">\n",
       "      <th></th>\n",
       "      <th>duration_sec</th>\n",
       "      <th>start_time</th>\n",
       "      <th>end_time</th>\n",
       "      <th>start_station_id</th>\n",
       "      <th>start_station_name</th>\n",
       "      <th>start_station_latitude</th>\n",
       "      <th>start_station_longitude</th>\n",
       "      <th>end_station_id</th>\n",
       "      <th>end_station_name</th>\n",
       "      <th>end_station_latitude</th>\n",
       "      <th>end_station_longitude</th>\n",
       "      <th>bike_id</th>\n",
       "      <th>user_type</th>\n",
       "      <th>month</th>\n",
       "      <th>weekday</th>\n",
       "      <th>hour</th>\n",
       "      <th>distance</th>\n",
       "      <th>duration_sec_log</th>\n",
       "    </tr>\n",
       "  </thead>\n",
       "  <tbody>\n",
       "    <tr>\n",
       "      <th>1177</th>\n",
       "      <td>2365</td>\n",
       "      <td>2019-04-30 18:21:42.610</td>\n",
       "      <td>2019-04-30 19:01:08.146</td>\n",
       "      <td>50</td>\n",
       "      <td>2nd St at Townsend St</td>\n",
       "      <td>37.780526</td>\n",
       "      <td>-122.390288</td>\n",
       "      <td>420</td>\n",
       "      <td>SF Test Station</td>\n",
       "      <td>0.0</td>\n",
       "      <td>0.0</td>\n",
       "      <td>1612</td>\n",
       "      <td>Subscriber</td>\n",
       "      <td>April</td>\n",
       "      <td>Tuesday</td>\n",
       "      <td>18</td>\n",
       "      <td>12796821</td>\n",
       "      <td>3.373831</td>\n",
       "    </tr>\n",
       "    <tr>\n",
       "      <th>1943</th>\n",
       "      <td>1964</td>\n",
       "      <td>2019-04-30 17:31:19.646</td>\n",
       "      <td>2019-04-30 18:04:04.518</td>\n",
       "      <td>98</td>\n",
       "      <td>Valencia St at 16th St</td>\n",
       "      <td>37.765052</td>\n",
       "      <td>-122.421866</td>\n",
       "      <td>420</td>\n",
       "      <td>SF Test Station</td>\n",
       "      <td>0.0</td>\n",
       "      <td>0.0</td>\n",
       "      <td>3507</td>\n",
       "      <td>Subscriber</td>\n",
       "      <td>April</td>\n",
       "      <td>Tuesday</td>\n",
       "      <td>17</td>\n",
       "      <td>12800032</td>\n",
       "      <td>3.293141</td>\n",
       "    </tr>\n",
       "    <tr>\n",
       "      <th>2097</th>\n",
       "      <td>546</td>\n",
       "      <td>2019-04-30 17:45:38.452</td>\n",
       "      <td>2019-04-30 17:54:45.258</td>\n",
       "      <td>370</td>\n",
       "      <td>Jones St at Post St</td>\n",
       "      <td>37.787327</td>\n",
       "      <td>-122.413278</td>\n",
       "      <td>420</td>\n",
       "      <td>SF Test Station</td>\n",
       "      <td>0.0</td>\n",
       "      <td>0.0</td>\n",
       "      <td>1142</td>\n",
       "      <td>Subscriber</td>\n",
       "      <td>April</td>\n",
       "      <td>Tuesday</td>\n",
       "      <td>17</td>\n",
       "      <td>12798430</td>\n",
       "      <td>2.737193</td>\n",
       "    </tr>\n",
       "    <tr>\n",
       "      <th>2176</th>\n",
       "      <td>630</td>\n",
       "      <td>2019-04-30 17:39:33.507</td>\n",
       "      <td>2019-04-30 17:50:04.314</td>\n",
       "      <td>21</td>\n",
       "      <td>Montgomery St BART Station (Market St at 2nd St)</td>\n",
       "      <td>37.789625</td>\n",
       "      <td>-122.400811</td>\n",
       "      <td>420</td>\n",
       "      <td>SF Test Station</td>\n",
       "      <td>0.0</td>\n",
       "      <td>0.0</td>\n",
       "      <td>3500</td>\n",
       "      <td>Subscriber</td>\n",
       "      <td>April</td>\n",
       "      <td>Tuesday</td>\n",
       "      <td>17</td>\n",
       "      <td>12797316</td>\n",
       "      <td>2.799341</td>\n",
       "    </tr>\n",
       "    <tr>\n",
       "      <th>2629</th>\n",
       "      <td>433</td>\n",
       "      <td>2019-04-30 17:17:10.486</td>\n",
       "      <td>2019-04-30 17:24:23.919</td>\n",
       "      <td>11</td>\n",
       "      <td>Davis St at Jackson St</td>\n",
       "      <td>37.797280</td>\n",
       "      <td>-122.398436</td>\n",
       "      <td>420</td>\n",
       "      <td>SF Test Station</td>\n",
       "      <td>0.0</td>\n",
       "      <td>0.0</td>\n",
       "      <td>1181</td>\n",
       "      <td>Subscriber</td>\n",
       "      <td>April</td>\n",
       "      <td>Tuesday</td>\n",
       "      <td>17</td>\n",
       "      <td>12796813</td>\n",
       "      <td>2.636488</td>\n",
       "    </tr>\n",
       "    <tr>\n",
       "      <th>...</th>\n",
       "      <td>...</td>\n",
       "      <td>...</td>\n",
       "      <td>...</td>\n",
       "      <td>...</td>\n",
       "      <td>...</td>\n",
       "      <td>...</td>\n",
       "      <td>...</td>\n",
       "      <td>...</td>\n",
       "      <td>...</td>\n",
       "      <td>...</td>\n",
       "      <td>...</td>\n",
       "      <td>...</td>\n",
       "      <td>...</td>\n",
       "      <td>...</td>\n",
       "      <td>...</td>\n",
       "      <td>...</td>\n",
       "      <td>...</td>\n",
       "      <td>...</td>\n",
       "    </tr>\n",
       "    <tr>\n",
       "      <th>101288</th>\n",
       "      <td>1032</td>\n",
       "      <td>2019-12-05 12:13:05.133</td>\n",
       "      <td>2019-12-05 12:30:17.370</td>\n",
       "      <td>436</td>\n",
       "      <td>McKinnon Ave at 3rd St</td>\n",
       "      <td>37.736296</td>\n",
       "      <td>-122.389970</td>\n",
       "      <td>449</td>\n",
       "      <td>16th Depot Bike Fleet Station</td>\n",
       "      <td>0.0</td>\n",
       "      <td>0.0</td>\n",
       "      <td>10768</td>\n",
       "      <td>Subscriber</td>\n",
       "      <td>December</td>\n",
       "      <td>Thursday</td>\n",
       "      <td>12</td>\n",
       "      <td>12798576</td>\n",
       "      <td>3.013680</td>\n",
       "    </tr>\n",
       "    <tr>\n",
       "      <th>101952</th>\n",
       "      <td>47600</td>\n",
       "      <td>2019-12-04 20:50:17.859</td>\n",
       "      <td>2019-12-05 10:03:38.728</td>\n",
       "      <td>3</td>\n",
       "      <td>Powell St BART Station (Market St at 4th St)</td>\n",
       "      <td>37.786375</td>\n",
       "      <td>-122.404904</td>\n",
       "      <td>449</td>\n",
       "      <td>16th Depot Bike Fleet Station</td>\n",
       "      <td>0.0</td>\n",
       "      <td>0.0</td>\n",
       "      <td>9959</td>\n",
       "      <td>Customer</td>\n",
       "      <td>December</td>\n",
       "      <td>Wednesday</td>\n",
       "      <td>20</td>\n",
       "      <td>12797783</td>\n",
       "      <td>4.677607</td>\n",
       "    </tr>\n",
       "    <tr>\n",
       "      <th>121625</th>\n",
       "      <td>49921</td>\n",
       "      <td>2019-12-01 04:36:04.283</td>\n",
       "      <td>2019-12-01 18:28:05.886</td>\n",
       "      <td>5</td>\n",
       "      <td>Powell St BART Station (Market St at 5th St)</td>\n",
       "      <td>37.783899</td>\n",
       "      <td>-122.408445</td>\n",
       "      <td>449</td>\n",
       "      <td>16th Depot Bike Fleet Station</td>\n",
       "      <td>0.0</td>\n",
       "      <td>0.0</td>\n",
       "      <td>11419</td>\n",
       "      <td>Customer</td>\n",
       "      <td>December</td>\n",
       "      <td>Sunday</td>\n",
       "      <td>4</td>\n",
       "      <td>12798173</td>\n",
       "      <td>4.698283</td>\n",
       "    </tr>\n",
       "    <tr>\n",
       "      <th>139590</th>\n",
       "      <td>157</td>\n",
       "      <td>2019-12-31 20:26:29.000</td>\n",
       "      <td>2019-12-31 20:29:07.000</td>\n",
       "      <td>NaN</td>\n",
       "      <td>NaN</td>\n",
       "      <td>37.766098</td>\n",
       "      <td>-122.396055</td>\n",
       "      <td>449</td>\n",
       "      <td>16th Depot Bike Fleet Station</td>\n",
       "      <td>0.0</td>\n",
       "      <td>0.0</td>\n",
       "      <td>371135</td>\n",
       "      <td>Subscriber</td>\n",
       "      <td>December</td>\n",
       "      <td>Tuesday</td>\n",
       "      <td>20</td>\n",
       "      <td>12797875</td>\n",
       "      <td>2.195900</td>\n",
       "    </tr>\n",
       "    <tr>\n",
       "      <th>147154</th>\n",
       "      <td>58888</td>\n",
       "      <td>2019-12-31 00:28:31.000</td>\n",
       "      <td>2019-12-31 16:50:00.000</td>\n",
       "      <td>NaN</td>\n",
       "      <td>NaN</td>\n",
       "      <td>37.789489</td>\n",
       "      <td>-122.412138</td>\n",
       "      <td>449</td>\n",
       "      <td>16th Depot Bike Fleet Station</td>\n",
       "      <td>0.0</td>\n",
       "      <td>0.0</td>\n",
       "      <td>472775</td>\n",
       "      <td>Customer</td>\n",
       "      <td>December</td>\n",
       "      <td>Tuesday</td>\n",
       "      <td>0</td>\n",
       "      <td>12798250</td>\n",
       "      <td>4.770027</td>\n",
       "    </tr>\n",
       "  </tbody>\n",
       "</table>\n",
       "<p>93 rows × 18 columns</p>\n",
       "</div>"
      ],
      "text/plain": [
       "        duration_sec              start_time                end_time  \\\n",
       "1177            2365 2019-04-30 18:21:42.610 2019-04-30 19:01:08.146   \n",
       "1943            1964 2019-04-30 17:31:19.646 2019-04-30 18:04:04.518   \n",
       "2097             546 2019-04-30 17:45:38.452 2019-04-30 17:54:45.258   \n",
       "2176             630 2019-04-30 17:39:33.507 2019-04-30 17:50:04.314   \n",
       "2629             433 2019-04-30 17:17:10.486 2019-04-30 17:24:23.919   \n",
       "...              ...                     ...                     ...   \n",
       "101288          1032 2019-12-05 12:13:05.133 2019-12-05 12:30:17.370   \n",
       "101952         47600 2019-12-04 20:50:17.859 2019-12-05 10:03:38.728   \n",
       "121625         49921 2019-12-01 04:36:04.283 2019-12-01 18:28:05.886   \n",
       "139590           157 2019-12-31 20:26:29.000 2019-12-31 20:29:07.000   \n",
       "147154         58888 2019-12-31 00:28:31.000 2019-12-31 16:50:00.000   \n",
       "\n",
       "       start_station_id                                start_station_name  \\\n",
       "1177                 50                             2nd St at Townsend St   \n",
       "1943                 98                            Valencia St at 16th St   \n",
       "2097                370                               Jones St at Post St   \n",
       "2176                 21  Montgomery St BART Station (Market St at 2nd St)   \n",
       "2629                 11                            Davis St at Jackson St   \n",
       "...                 ...                                               ...   \n",
       "101288              436                            McKinnon Ave at 3rd St   \n",
       "101952                3      Powell St BART Station (Market St at 4th St)   \n",
       "121625                5      Powell St BART Station (Market St at 5th St)   \n",
       "139590              NaN                                               NaN   \n",
       "147154              NaN                                               NaN   \n",
       "\n",
       "        start_station_latitude  start_station_longitude end_station_id  \\\n",
       "1177                 37.780526              -122.390288            420   \n",
       "1943                 37.765052              -122.421866            420   \n",
       "2097                 37.787327              -122.413278            420   \n",
       "2176                 37.789625              -122.400811            420   \n",
       "2629                 37.797280              -122.398436            420   \n",
       "...                        ...                      ...            ...   \n",
       "101288               37.736296              -122.389970            449   \n",
       "101952               37.786375              -122.404904            449   \n",
       "121625               37.783899              -122.408445            449   \n",
       "139590               37.766098              -122.396055            449   \n",
       "147154               37.789489              -122.412138            449   \n",
       "\n",
       "                     end_station_name  end_station_latitude  \\\n",
       "1177                  SF Test Station                   0.0   \n",
       "1943                  SF Test Station                   0.0   \n",
       "2097                  SF Test Station                   0.0   \n",
       "2176                  SF Test Station                   0.0   \n",
       "2629                  SF Test Station                   0.0   \n",
       "...                               ...                   ...   \n",
       "101288  16th Depot Bike Fleet Station                   0.0   \n",
       "101952  16th Depot Bike Fleet Station                   0.0   \n",
       "121625  16th Depot Bike Fleet Station                   0.0   \n",
       "139590  16th Depot Bike Fleet Station                   0.0   \n",
       "147154  16th Depot Bike Fleet Station                   0.0   \n",
       "\n",
       "        end_station_longitude bike_id   user_type     month    weekday  hour  \\\n",
       "1177                      0.0    1612  Subscriber     April    Tuesday    18   \n",
       "1943                      0.0    3507  Subscriber     April    Tuesday    17   \n",
       "2097                      0.0    1142  Subscriber     April    Tuesday    17   \n",
       "2176                      0.0    3500  Subscriber     April    Tuesday    17   \n",
       "2629                      0.0    1181  Subscriber     April    Tuesday    17   \n",
       "...                       ...     ...         ...       ...        ...   ...   \n",
       "101288                    0.0   10768  Subscriber  December   Thursday    12   \n",
       "101952                    0.0    9959    Customer  December  Wednesday    20   \n",
       "121625                    0.0   11419    Customer  December     Sunday     4   \n",
       "139590                    0.0  371135  Subscriber  December    Tuesday    20   \n",
       "147154                    0.0  472775    Customer  December    Tuesday     0   \n",
       "\n",
       "        distance  duration_sec_log  \n",
       "1177    12796821          3.373831  \n",
       "1943    12800032          3.293141  \n",
       "2097    12798430          2.737193  \n",
       "2176    12797316          2.799341  \n",
       "2629    12796813          2.636488  \n",
       "...          ...               ...  \n",
       "101288  12798576          3.013680  \n",
       "101952  12797783          4.677607  \n",
       "121625  12798173          4.698283  \n",
       "139590  12797875          2.195900  \n",
       "147154  12798250          4.770027  \n",
       "\n",
       "[93 rows x 18 columns]"
      ]
     },
     "execution_count": 33,
     "metadata": {},
     "output_type": "execute_result"
    }
   ],
   "source": [
    "# extract some of the very long trips\n",
    "df[df.distance > 100000]"
   ]
  },
  {
   "cell_type": "markdown",
   "metadata": {},
   "source": [
    "There is an issue with data quality: some latitudes and longitudes are set to 0.0 (which I'm assuming is the default value) while their corresponding start or end station have regular latitude and longitude entries. This creates very long distances. We'll clean this up by removing these rows from the dataframe. "
   ]
  },
  {
   "cell_type": "code",
   "execution_count": 35,
   "metadata": {
    "scrolled": true
   },
   "outputs": [],
   "source": [
    "# remove entries where the longitude of start or end station equals 0\n",
    "df.drop(df.distance[df.start_station_longitude == 0.0].index, axis=0, inplace=True)\n",
    "df.drop(df.distance[df.end_station_longitude == 0.0].index, axis=0, inplace=True)"
   ]
  },
  {
   "cell_type": "code",
   "execution_count": 36,
   "metadata": {
    "scrolled": true
   },
   "outputs": [
    {
     "data": {
      "image/png": "[encoded data removed]",
      "text/plain": [
       "<Figure size 432x288 with 1 Axes>"
      ]
     },
     "metadata": {
      "needs_background": "light"
     },
     "output_type": "display_data"
    }
   ],
   "source": [
    "plt.hist(df.distance)\n",
    "plt.xlabel('trip distance (meter)')\n",
    "plt.ylabel('frequency')\n",
    "plt.show()"
   ]
  },
  {
   "cell_type": "markdown",
   "metadata": {},
   "source": [
    "The bulk of the trips were shorter than 10 km. There is a strong right skew in the data. Let's log-transform this variable in order to deal with the wide range. Some distances are 0 because the start and end station were identical. We'll first replace these 0s with NaN to avoid a conflict with log-transformation. "
   ]
  },
  {
   "cell_type": "code",
   "execution_count": 38,
   "metadata": {},
   "outputs": [
    {
     "data": {
      "text/html": [
       "<div>\n",
       "<style scoped>\n",
       "    .dataframe tbody tr th:only-of-type {\n",
       "        vertical-align: middle;\n",
       "    }\n",
       "\n",
       "    .dataframe tbody tr th {\n",
       "        vertical-align: top;\n",
       "    }\n",
       "\n",
       "    .dataframe thead th {\n",
       "        text-align: right;\n",
       "    }\n",
       "</style>\n",
       "<table border=\"1\" class=\"dataframe\">\n",
       "  <thead>\n",
       "    <tr style=\"text-align: right;\">\n",
       "      <th></th>\n",
       "      <th>duration_sec</th>\n",
       "      <th>start_time</th>\n",
       "      <th>end_time</th>\n",
       "      <th>start_station_id</th>\n",
       "      <th>start_station_name</th>\n",
       "      <th>start_station_latitude</th>\n",
       "      <th>start_station_longitude</th>\n",
       "      <th>end_station_id</th>\n",
       "      <th>end_station_name</th>\n",
       "      <th>end_station_latitude</th>\n",
       "      <th>end_station_longitude</th>\n",
       "      <th>bike_id</th>\n",
       "      <th>user_type</th>\n",
       "      <th>month</th>\n",
       "      <th>weekday</th>\n",
       "      <th>hour</th>\n",
       "      <th>distance</th>\n",
       "      <th>duration_sec_log</th>\n",
       "    </tr>\n",
       "  </thead>\n",
       "  <tbody>\n",
       "    <tr>\n",
       "      <th>123</th>\n",
       "      <td>1473</td>\n",
       "      <td>2019-01-31 22:34:46.427</td>\n",
       "      <td>2019-01-31 22:59:20.357</td>\n",
       "      <td>251</td>\n",
       "      <td>California St at University Ave</td>\n",
       "      <td>37.870555</td>\n",
       "      <td>-122.279720</td>\n",
       "      <td>251</td>\n",
       "      <td>California St at University Ave</td>\n",
       "      <td>37.870555</td>\n",
       "      <td>-122.279720</td>\n",
       "      <td>4594</td>\n",
       "      <td>Subscriber</td>\n",
       "      <td>January</td>\n",
       "      <td>Thursday</td>\n",
       "      <td>22</td>\n",
       "      <td>0</td>\n",
       "      <td>3.168203</td>\n",
       "    </tr>\n",
       "    <tr>\n",
       "      <th>130</th>\n",
       "      <td>530</td>\n",
       "      <td>2019-01-31 22:49:05.546</td>\n",
       "      <td>2019-01-31 22:57:55.723</td>\n",
       "      <td>262</td>\n",
       "      <td>West St at University Ave</td>\n",
       "      <td>37.869967</td>\n",
       "      <td>-122.286533</td>\n",
       "      <td>262</td>\n",
       "      <td>West St at University Ave</td>\n",
       "      <td>37.869967</td>\n",
       "      <td>-122.286533</td>\n",
       "      <td>4551</td>\n",
       "      <td>Subscriber</td>\n",
       "      <td>January</td>\n",
       "      <td>Thursday</td>\n",
       "      <td>22</td>\n",
       "      <td>0</td>\n",
       "      <td>2.724276</td>\n",
       "    </tr>\n",
       "    <tr>\n",
       "      <th>148</th>\n",
       "      <td>788</td>\n",
       "      <td>2019-01-31 22:33:56.563</td>\n",
       "      <td>2019-01-31 22:47:05.335</td>\n",
       "      <td>278</td>\n",
       "      <td>The Alameda at Bush St</td>\n",
       "      <td>37.331932</td>\n",
       "      <td>-121.904888</td>\n",
       "      <td>278</td>\n",
       "      <td>The Alameda at Bush St</td>\n",
       "      <td>37.331932</td>\n",
       "      <td>-121.904888</td>\n",
       "      <td>3824</td>\n",
       "      <td>Subscriber</td>\n",
       "      <td>January</td>\n",
       "      <td>Thursday</td>\n",
       "      <td>22</td>\n",
       "      <td>0</td>\n",
       "      <td>2.896526</td>\n",
       "    </tr>\n",
       "    <tr>\n",
       "      <th>149</th>\n",
       "      <td>861</td>\n",
       "      <td>2019-01-31 22:32:10.430</td>\n",
       "      <td>2019-01-31 22:46:31.545</td>\n",
       "      <td>196</td>\n",
       "      <td>Grand Ave at Perkins St</td>\n",
       "      <td>37.808894</td>\n",
       "      <td>-122.256460</td>\n",
       "      <td>196</td>\n",
       "      <td>Grand Ave at Perkins St</td>\n",
       "      <td>37.808894</td>\n",
       "      <td>-122.256460</td>\n",
       "      <td>4526</td>\n",
       "      <td>Subscriber</td>\n",
       "      <td>January</td>\n",
       "      <td>Thursday</td>\n",
       "      <td>22</td>\n",
       "      <td>0</td>\n",
       "      <td>2.935003</td>\n",
       "    </tr>\n",
       "    <tr>\n",
       "      <th>151</th>\n",
       "      <td>3343</td>\n",
       "      <td>2019-01-31 21:48:56.564</td>\n",
       "      <td>2019-01-31 22:44:40.126</td>\n",
       "      <td>244</td>\n",
       "      <td>Shattuck Ave at Hearst Ave</td>\n",
       "      <td>37.873676</td>\n",
       "      <td>-122.268487</td>\n",
       "      <td>244</td>\n",
       "      <td>Shattuck Ave at Hearst Ave</td>\n",
       "      <td>37.873676</td>\n",
       "      <td>-122.268487</td>\n",
       "      <td>1389</td>\n",
       "      <td>Customer</td>\n",
       "      <td>January</td>\n",
       "      <td>Thursday</td>\n",
       "      <td>21</td>\n",
       "      <td>0</td>\n",
       "      <td>3.524136</td>\n",
       "    </tr>\n",
       "    <tr>\n",
       "      <th>...</th>\n",
       "      <td>...</td>\n",
       "      <td>...</td>\n",
       "      <td>...</td>\n",
       "      <td>...</td>\n",
       "      <td>...</td>\n",
       "      <td>...</td>\n",
       "      <td>...</td>\n",
       "      <td>...</td>\n",
       "      <td>...</td>\n",
       "      <td>...</td>\n",
       "      <td>...</td>\n",
       "      <td>...</td>\n",
       "      <td>...</td>\n",
       "      <td>...</td>\n",
       "      <td>...</td>\n",
       "      <td>...</td>\n",
       "      <td>...</td>\n",
       "      <td>...</td>\n",
       "    </tr>\n",
       "    <tr>\n",
       "      <th>149741</th>\n",
       "      <td>1567</td>\n",
       "      <td>2019-12-31 16:35:51.000</td>\n",
       "      <td>2019-12-31 17:01:59.000</td>\n",
       "      <td>6</td>\n",
       "      <td>The Embarcadero at Sansome St</td>\n",
       "      <td>37.804770</td>\n",
       "      <td>-122.403234</td>\n",
       "      <td>6</td>\n",
       "      <td>The Embarcadero at Sansome St</td>\n",
       "      <td>37.804770</td>\n",
       "      <td>-122.403234</td>\n",
       "      <td>882336</td>\n",
       "      <td>Subscriber</td>\n",
       "      <td>December</td>\n",
       "      <td>Tuesday</td>\n",
       "      <td>16</td>\n",
       "      <td>0</td>\n",
       "      <td>3.195069</td>\n",
       "    </tr>\n",
       "    <tr>\n",
       "      <th>149748</th>\n",
       "      <td>3997</td>\n",
       "      <td>2019-12-29 17:02:41.000</td>\n",
       "      <td>2019-12-29 18:09:18.000</td>\n",
       "      <td>6</td>\n",
       "      <td>The Embarcadero at Sansome St</td>\n",
       "      <td>37.804770</td>\n",
       "      <td>-122.403234</td>\n",
       "      <td>6</td>\n",
       "      <td>The Embarcadero at Sansome St</td>\n",
       "      <td>37.804770</td>\n",
       "      <td>-122.403234</td>\n",
       "      <td>283991</td>\n",
       "      <td>Subscriber</td>\n",
       "      <td>December</td>\n",
       "      <td>Sunday</td>\n",
       "      <td>17</td>\n",
       "      <td>0</td>\n",
       "      <td>3.601734</td>\n",
       "    </tr>\n",
       "    <tr>\n",
       "      <th>149757</th>\n",
       "      <td>1186</td>\n",
       "      <td>2019-12-23 16:49:11.000</td>\n",
       "      <td>2019-12-23 17:08:58.000</td>\n",
       "      <td>6</td>\n",
       "      <td>The Embarcadero at Sansome St</td>\n",
       "      <td>37.804770</td>\n",
       "      <td>-122.403234</td>\n",
       "      <td>6</td>\n",
       "      <td>The Embarcadero at Sansome St</td>\n",
       "      <td>37.804770</td>\n",
       "      <td>-122.403234</td>\n",
       "      <td>119878</td>\n",
       "      <td>Customer</td>\n",
       "      <td>December</td>\n",
       "      <td>Monday</td>\n",
       "      <td>16</td>\n",
       "      <td>0</td>\n",
       "      <td>3.074085</td>\n",
       "    </tr>\n",
       "    <tr>\n",
       "      <th>149770</th>\n",
       "      <td>785</td>\n",
       "      <td>2019-12-20 08:29:28.000</td>\n",
       "      <td>2019-12-20 08:42:33.000</td>\n",
       "      <td>6</td>\n",
       "      <td>The Embarcadero at Sansome St</td>\n",
       "      <td>37.804770</td>\n",
       "      <td>-122.403234</td>\n",
       "      <td>6</td>\n",
       "      <td>The Embarcadero at Sansome St</td>\n",
       "      <td>37.804770</td>\n",
       "      <td>-122.403234</td>\n",
       "      <td>337617</td>\n",
       "      <td>Subscriber</td>\n",
       "      <td>December</td>\n",
       "      <td>Friday</td>\n",
       "      <td>8</td>\n",
       "      <td>0</td>\n",
       "      <td>2.894870</td>\n",
       "    </tr>\n",
       "    <tr>\n",
       "      <th>149860</th>\n",
       "      <td>403</td>\n",
       "      <td>2019-12-27 16:53:32.000</td>\n",
       "      <td>2019-12-27 17:00:15.000</td>\n",
       "      <td>NaN</td>\n",
       "      <td>NaN</td>\n",
       "      <td>37.805320</td>\n",
       "      <td>-122.432322</td>\n",
       "      <td>NaN</td>\n",
       "      <td>NaN</td>\n",
       "      <td>37.805321</td>\n",
       "      <td>-122.432322</td>\n",
       "      <td>696313</td>\n",
       "      <td>Subscriber</td>\n",
       "      <td>December</td>\n",
       "      <td>Friday</td>\n",
       "      <td>16</td>\n",
       "      <td>0</td>\n",
       "      <td>2.605305</td>\n",
       "    </tr>\n",
       "  </tbody>\n",
       "</table>\n",
       "<p>59379 rows × 18 columns</p>\n",
       "</div>"
      ],
      "text/plain": [
       "        duration_sec              start_time                end_time  \\\n",
       "123             1473 2019-01-31 22:34:46.427 2019-01-31 22:59:20.357   \n",
       "130              530 2019-01-31 22:49:05.546 2019-01-31 22:57:55.723   \n",
       "148              788 2019-01-31 22:33:56.563 2019-01-31 22:47:05.335   \n",
       "149              861 2019-01-31 22:32:10.430 2019-01-31 22:46:31.545   \n",
       "151             3343 2019-01-31 21:48:56.564 2019-01-31 22:44:40.126   \n",
       "...              ...                     ...                     ...   \n",
       "149741          1567 2019-12-31 16:35:51.000 2019-12-31 17:01:59.000   \n",
       "149748          3997 2019-12-29 17:02:41.000 2019-12-29 18:09:18.000   \n",
       "149757          1186 2019-12-23 16:49:11.000 2019-12-23 17:08:58.000   \n",
       "149770           785 2019-12-20 08:29:28.000 2019-12-20 08:42:33.000   \n",
       "149860           403 2019-12-27 16:53:32.000 2019-12-27 17:00:15.000   \n",
       "\n",
       "       start_station_id               start_station_name  \\\n",
       "123                 251  California St at University Ave   \n",
       "130                 262        West St at University Ave   \n",
       "148                 278           The Alameda at Bush St   \n",
       "149                 196          Grand Ave at Perkins St   \n",
       "151                 244       Shattuck Ave at Hearst Ave   \n",
       "...                 ...                              ...   \n",
       "149741                6    The Embarcadero at Sansome St   \n",
       "149748                6    The Embarcadero at Sansome St   \n",
       "149757                6    The Embarcadero at Sansome St   \n",
       "149770                6    The Embarcadero at Sansome St   \n",
       "149860              NaN                              NaN   \n",
       "\n",
       "        start_station_latitude  start_station_longitude end_station_id  \\\n",
       "123                  37.870555              -122.279720            251   \n",
       "130                  37.869967              -122.286533            262   \n",
       "148                  37.331932              -121.904888            278   \n",
       "149                  37.808894              -122.256460            196   \n",
       "151                  37.873676              -122.268487            244   \n",
       "...                        ...                      ...            ...   \n",
       "149741               37.804770              -122.403234              6   \n",
       "149748               37.804770              -122.403234              6   \n",
       "149757               37.804770              -122.403234              6   \n",
       "149770               37.804770              -122.403234              6   \n",
       "149860               37.805320              -122.432322            NaN   \n",
       "\n",
       "                       end_station_name  end_station_latitude  \\\n",
       "123     California St at University Ave             37.870555   \n",
       "130           West St at University Ave             37.869967   \n",
       "148              The Alameda at Bush St             37.331932   \n",
       "149             Grand Ave at Perkins St             37.808894   \n",
       "151          Shattuck Ave at Hearst Ave             37.873676   \n",
       "...                                 ...                   ...   \n",
       "149741    The Embarcadero at Sansome St             37.804770   \n",
       "149748    The Embarcadero at Sansome St             37.804770   \n",
       "149757    The Embarcadero at Sansome St             37.804770   \n",
       "149770    The Embarcadero at Sansome St             37.804770   \n",
       "149860                              NaN             37.805321   \n",
       "\n",
       "        end_station_longitude bike_id   user_type     month   weekday  hour  \\\n",
       "123               -122.279720    4594  Subscriber   January  Thursday    22   \n",
       "130               -122.286533    4551  Subscriber   January  Thursday    22   \n",
       "148               -121.904888    3824  Subscriber   January  Thursday    22   \n",
       "149               -122.256460    4526  Subscriber   January  Thursday    22   \n",
       "151               -122.268487    1389    Customer   January  Thursday    21   \n",
       "...                       ...     ...         ...       ...       ...   ...   \n",
       "149741            -122.403234  882336  Subscriber  December   Tuesday    16   \n",
       "149748            -122.403234  283991  Subscriber  December    Sunday    17   \n",
       "149757            -122.403234  119878    Customer  December    Monday    16   \n",
       "149770            -122.403234  337617  Subscriber  December    Friday     8   \n",
       "149860            -122.432322  696313  Subscriber  December    Friday    16   \n",
       "\n",
       "        distance  duration_sec_log  \n",
       "123            0          3.168203  \n",
       "130            0          2.724276  \n",
       "148            0          2.896526  \n",
       "149            0          2.935003  \n",
       "151            0          3.524136  \n",
       "...          ...               ...  \n",
       "149741         0          3.195069  \n",
       "149748         0          3.601734  \n",
       "149757         0          3.074085  \n",
       "149770         0          2.894870  \n",
       "149860         0          2.605305  \n",
       "\n",
       "[59379 rows x 18 columns]"
      ]
     },
     "execution_count": 38,
     "metadata": {},
     "output_type": "execute_result"
    }
   ],
   "source": [
    "# extract trips with a distance of 0 meters and confirm that start and end station are identical\n",
    "df[df.distance == 0]"
   ]
  },
  {
   "cell_type": "code",
   "execution_count": 39,
   "metadata": {},
   "outputs": [],
   "source": [
    "# replace 0 with NaN\n",
    "df.distance.replace(0, np.nan, inplace=True)"
   ]
  },
  {
   "cell_type": "code",
   "execution_count": 40,
   "metadata": {},
   "outputs": [],
   "source": [
    "# do the log-transformation and stor as a new column in the dataframe\n",
    "df['distance_log'] = np.log10(df.distance)"
   ]
  },
  {
   "cell_type": "code",
   "execution_count": 41,
   "metadata": {},
   "outputs": [
    {
     "data": {
      "text/plain": [
       "(0.0, 5.155384627136393)"
      ]
     },
     "execution_count": 41,
     "metadata": {},
     "output_type": "execute_result"
    }
   ],
   "source": [
    "df.distance_log.min(), df.distance_log.max()"
   ]
  },
  {
   "cell_type": "code",
   "execution_count": 42,
   "metadata": {},
   "outputs": [
    {
     "data": {
      "image/png": "[encoded data removed]",
      "text/plain": [
       "<Figure size 432x288 with 1 Axes>"
      ]
     },
     "metadata": {
      "needs_background": "light"
     },
     "output_type": "display_data"
    }
   ],
   "source": [
    "bin_edges = np.arange(0, 5.5, 0.1)\n",
    "\n",
    "plt.hist(df.distance_log, bins=bin_edges)\n",
    "plt.xlabel('log10 of trip distance (meters)')\n",
    "plt.ylabel('frequency')\n",
    "plt.show()"
   ]
  },
  {
   "cell_type": "code",
   "execution_count": 43,
   "metadata": {
    "scrolled": true
   },
   "outputs": [
    {
     "data": {
      "text/plain": [
       "3.1720188094245563"
      ]
     },
     "execution_count": 43,
     "metadata": {},
     "output_type": "execute_result"
    }
   ],
   "source": [
    "df.distance_log.median()"
   ]
  },
  {
   "cell_type": "code",
   "execution_count": 44,
   "metadata": {},
   "outputs": [
    {
     "data": {
      "text/plain": [
       "1485.9999999999993"
      ]
     },
     "execution_count": 44,
     "metadata": {},
     "output_type": "execute_result"
    }
   ],
   "source": [
    "# calculate the trip duration for\n",
    "10**df.distance_log.median()"
   ]
  },
  {
   "cell_type": "markdown",
   "metadata": {},
   "source": [
    "Looks close to normally distributed. The median trip distance is 1486 meters (close to 1.5 km or 1 mile). "
   ]
  },
  {
   "cell_type": "markdown",
   "metadata": {},
   "source": [
    "### User type"
   ]
  },
  {
   "cell_type": "markdown",
   "metadata": {},
   "source": [
    "Lastly, we will explore user type. This variable is of the categorical nominal type. We will plot the variable as a bar chart. "
   ]
  },
  {
   "cell_type": "code",
   "execution_count": 46,
   "metadata": {},
   "outputs": [
    {
     "data": {
      "text/plain": [
       "Subscriber    2020373\n",
       "Customer       485563\n",
       "Name: user_type, dtype: int64"
      ]
     },
     "execution_count": 46,
     "metadata": {},
     "output_type": "execute_result"
    }
   ],
   "source": [
    "df.user_type.value_counts()"
   ]
  },
  {
   "cell_type": "code",
   "execution_count": 47,
   "metadata": {},
   "outputs": [
    {
     "data": {
      "image/png": "[encoded data removed]",
      "text/plain": [
       "<Figure size 432x288 with 1 Axes>"
      ]
     },
     "metadata": {
      "needs_background": "light"
     },
     "output_type": "display_data"
    }
   ],
   "source": [
    "sb.countplot(x='user_type', data=df, color=blue)\n",
    "plt.xticks(rotation=90);"
   ]
  },
  {
   "cell_type": "markdown",
   "metadata": {},
   "source": [
    "It would be more informative to have percentages instead of total counts. Also, here the two bars should be colored differently, since they are categorical. "
   ]
  },
  {
   "cell_type": "code",
   "execution_count": 48,
   "metadata": {},
   "outputs": [
    {
     "data": {
      "image/png": "[encoded data removed]",
      "text/plain": [
       "<Figure size 432x288 with 1 Axes>"
      ]
     },
     "metadata": {
      "needs_background": "light"
     },
     "output_type": "display_data"
    }
   ],
   "source": [
    "# transform counts into percentages\n",
    "user_perc = df.user_type.value_counts() / df.shape[0] * 100\n",
    "\n",
    "# create barplot\n",
    "sb.barplot(data= df, x=user_perc.index, y=user_perc.values)\n",
    "plt.ylabel('percentage')\n",
    "plt.show()"
   ]
  },
  {
   "cell_type": "markdown",
   "metadata": {},
   "source": [
    "There are 4 times more subscribers (\\~80%) than non-subscribers (~20%). "
   ]
  },
  {
   "cell_type": "markdown",
   "metadata": {},
   "source": [
    "## Bivariate Exploration"
   ]
  },
  {
   "cell_type": "markdown",
   "metadata": {},
   "source": [
    "Now, we next want to explore relationships between pairs of variables."
   ]
  },
  {
   "cell_type": "markdown",
   "metadata": {},
   "source": [
    "### Trip duration ~ trip distance\n",
    "\n",
    "We'll start off with trip duration and trip distance. Since both are continuous numerical variables we will use a scatterplot. A scatterplot with > 2.5 million datapoints will take a long time to plot and is probably not that informative. We will therefore take a sample of 100,000 entries and plots these. "
   ]
  },
  {
   "cell_type": "code",
   "execution_count": 49,
   "metadata": {},
   "outputs": [],
   "source": [
    "# create a new dataframe with a subset of 100,000 of the original dataframe\n",
    "df_sample = df.sample(n=100000)"
   ]
  },
  {
   "cell_type": "code",
   "execution_count": 50,
   "metadata": {},
   "outputs": [
    {
     "data": {
      "image/png": "[encoded data removed]",
      "text/plain": [
       "<Figure size 432x288 with 1 Axes>"
      ]
     },
     "metadata": {
      "needs_background": "light"
     },
     "output_type": "display_data"
    }
   ],
   "source": [
    "sb.scatterplot(data=df_sample , x='distance_log', y='duration_sec_log', alpha=0.2);\n",
    "plt.xlim(0,6)\n",
    "plt.ylim(0,6)\n",
    "plt.xlabel('log10 of trip distance (meters)')\n",
    "plt.ylabel('log10 of trip duration (sec)')\n",
    "# add a line to signify the distance beyond which the minimum traveling duration steadily increases\n",
    "plt.axvline(x=np.log10(450), color='red', ls='--')\n",
    "plt.show()"
   ]
  },
  {
   "cell_type": "markdown",
   "metadata": {},
   "source": [
    "Interestingly, up to a certain distance (approximately 450 meters, marked with the red dashed line) there is a wide spread in trip durations (between 100 and 10000 seconds). Beyond that the minimum time traveled increases with the distance, which makes sense as there is an upper limit for how fast a person can bike."
   ]
  },
  {
   "cell_type": "markdown",
   "metadata": {},
   "source": [
    "### Trip duration ~ weekday\n",
    "\n",
    "Next, we will look at duration of trips on each weekday. We're dealing with a continuous numerical variable and a categorical variable and will therefore use violinplots. "
   ]
  },
  {
   "cell_type": "code",
   "execution_count": 51,
   "metadata": {},
   "outputs": [
    {
     "data": {
      "image/png": "[encoded data removed]",
      "text/plain": [
       "<Figure size 432x288 with 1 Axes>"
      ]
     },
     "metadata": {
      "needs_background": "light"
     },
     "output_type": "display_data"
    }
   ],
   "source": [
    "sb.violinplot(data = df_sample, x='weekday', y='duration_sec_log', inner='quartile', palette=\"Blues_d\")\n",
    "plt.xticks(rotation=90)\n",
    "plt.ylabel('log10 of trip duration (sec)')\n",
    "plt.show()"
   ]
  },
  {
   "cell_type": "markdown",
   "metadata": {},
   "source": [
    "Trips on weekdends seem to be slightly longer than on weekdays. Let's have a closer look using non-log-transformed trip durations plotted as pointplots. "
   ]
  },
  {
   "cell_type": "code",
   "execution_count": 52,
   "metadata": {},
   "outputs": [
    {
     "data": {
      "image/png": "[encoded data removed]",
      "text/plain": [
       "<Figure size 432x288 with 1 Axes>"
      ]
     },
     "metadata": {
      "needs_background": "light"
     },
     "output_type": "display_data"
    }
   ],
   "source": [
    "sb.pointplot(data=df_sample, x='weekday', y='duration_sec', palette=\"Blues_d\")\n",
    "plt.xticks(rotation=90)\n",
    "plt.ylabel('trip duration (sec)')\n",
    "plt.show()"
   ]
  },
  {
   "cell_type": "markdown",
   "metadata": {},
   "source": [
    "People seem to be taking longer bike rides on the weekend: trip duration is about 200 second (~3.5 min) longer on Saturday and Sunday compared to weekdays. "
   ]
  },
  {
   "cell_type": "markdown",
   "metadata": {},
   "source": [
    "### Trip duration ~ month\n",
    "\n",
    "Next, we will look at duration of trips in each month. Again, we have a continuous numerical variable and a categorical variable. We will use a boxenplots this time as a variation to violinplots in the previous example. "
   ]
  },
  {
   "cell_type": "code",
   "execution_count": 54,
   "metadata": {},
   "outputs": [
    {
     "data": {
      "image/png": "[encoded data removed]",
      "text/plain": [
       "<Figure size 432x288 with 1 Axes>"
      ]
     },
     "metadata": {
      "needs_background": "light"
     },
     "output_type": "display_data"
    }
   ],
   "source": [
    "sb.boxenplot(data = df_sample, x='month', y='duration_sec_log', palette=\"Blues_d\")\n",
    "plt.xticks(rotation=90)\n",
    "plt.ylabel('log10 of trip duration (sec)')\n",
    "plt.show()"
   ]
  },
  {
   "cell_type": "markdown",
   "metadata": {},
   "source": [
    "We observe a slight increase in trip duration during the summer months: June to August. "
   ]
  },
  {
   "cell_type": "markdown",
   "metadata": {},
   "source": [
    "### Trip duration ~ user type\n",
    "\n",
    "Lastly, we will look at the relationship between user type (subscriber or non-subscriber) and trip duration. Let's use a violinplot again to explore this relationship. "
   ]
  },
  {
   "cell_type": "code",
   "execution_count": 57,
   "metadata": {},
   "outputs": [
    {
     "data": {
      "image/png": "[encoded data removed]",
      "text/plain": [
       "<Figure size 432x288 with 1 Axes>"
      ]
     },
     "metadata": {
      "needs_background": "light"
     },
     "output_type": "display_data"
    }
   ],
   "source": [
    "sb.violinplot(data = df_sample, x='user_type', y='duration_sec_log', inner='quartile')\n",
    "plt.xticks(rotation=90)\n",
    "plt.ylabel('log10 of trip duration (sec)')\n",
    "plt.show()"
   ]
  },
  {
   "cell_type": "markdown",
   "metadata": {},
   "source": [
    "Trips that non-subscribers do tend to be longer (on average about 10 min) than trips of subscribers. "
   ]
  },
  {
   "cell_type": "markdown",
   "metadata": {},
   "source": [
    "## Multivariate Exploration"
   ]
  },
  {
   "cell_type": "markdown",
   "metadata": {},
   "source": [
    "### Trip duration ~ weekday and separated by user type\n",
    "\n",
    "We want to know how trip duration for subscribers and non-subscribers changes over the course of the week. We will use clustered a bar chart and a pointplot for this. "
   ]
  },
  {
   "cell_type": "code",
   "execution_count": 58,
   "metadata": {},
   "outputs": [
    {
     "data": {
      "image/png": "[encoded data removed]",
      "text/plain": [
       "<Figure size 432x288 with 1 Axes>"
      ]
     },
     "metadata": {
      "needs_background": "light"
     },
     "output_type": "display_data"
    }
   ],
   "source": [
    "sb.barplot(data=df_sample, x='weekday', y='duration_sec', hue='user_type')\n",
    "plt.xticks(rotation=90)\n",
    "plt.ylabel('trip duration (sec)')\n",
    "plt.show()"
   ]
  },
  {
   "cell_type": "code",
   "execution_count": 59,
   "metadata": {},
   "outputs": [
    {
     "data": {
      "image/png": "[encoded data removed]",
      "text/plain": [
       "<Figure size 432x288 with 1 Axes>"
      ]
     },
     "metadata": {
      "needs_background": "light"
     },
     "output_type": "display_data"
    }
   ],
   "source": [
    "sb.pointplot(data=df_sample, x='weekday', y='duration_sec', hue='user_type')\n",
    "plt.xticks(rotation=90)\n",
    "plt.ylabel('trip duration (sec)')\n",
    "plt.show()"
   ]
  },
  {
   "cell_type": "markdown",
   "metadata": {},
   "source": [
    "Non-subscribers are taking longer trips than subscribers throughout the week. Both user types take longer trips on the weekends. The variability in trip duration appears to be higher for non-subscribers (indicated by the larger error bars) than for subscribers. "
   ]
  },
  {
   "cell_type": "markdown",
   "metadata": {},
   "source": [
    "### Number of trips per weekday per hour of day\n",
    "\n",
    "We've seen before that number of trips fluctuate over the course of a day with peak usage at 8 am and 5 pm. We have also seen that bikes are used more frequently during the week than during weekends. Here we want to have a look at the combination of both variables weekday and hour of day in the context of number bike rides. Since both weekday and hour of day are categorical variables and number of bike rides is a continuous numerical variable we will plot this as a heatmap. "
   ]
  },
  {
   "cell_type": "code",
   "execution_count": 60,
   "metadata": {},
   "outputs": [],
   "source": [
    "# first count the trips per hour and weekday\n",
    "counts = df_sample.groupby(['hour','weekday']).size()\n",
    "counts = counts.reset_index(name='cnt')\n",
    "counts = counts.pivot(index='weekday', columns='hour', values='cnt')"
   ]
  },
  {
   "cell_type": "code",
   "execution_count": 61,
   "metadata": {},
   "outputs": [
    {
     "data": {
      "image/png": "[encoded data removed]",
      "text/plain": [
       "<Figure size 1152x432 with 2 Axes>"
      ]
     },
     "metadata": {
      "needs_background": "light"
     },
     "output_type": "display_data"
    }
   ],
   "source": [
    "plt.figure(figsize=(16, 6))\n",
    "\n",
    "sb.heatmap(counts, annot=True, fmt=\"d\", linewidths=.5, cmap=sb.cm.rocket_r); \n",
    "plt.yticks(rotation=0)\n",
    "plt.show()"
   ]
  },
  {
   "cell_type": "markdown",
   "metadata": {},
   "source": [
    "During the week bike rides peak during morning and evening rush hour. In contrast, on the weekend days number of bike rides slowly increase starting at 9 am in the morning and peak in the early afternoon (1 and 2 pm). "
   ]
  },
  {
   "cell_type": "markdown",
   "metadata": {},
   "source": [
    "> At the end of your report, make sure that you export the notebook as an\n",
    "html file from the `File > Download as... > HTML` menu. Make sure you keep\n",
    "track of where the exported file goes, so you can put it in the same folder\n",
    "as this notebook for project submission. Also, make sure you remove all of\n",
    "the quote-formatted guide notes like this one before you finish your report!"
   ]
  },
  {
   "cell_type": "code",
   "execution_count": 62,
   "metadata": {},
   "outputs": [],
   "source": [
    "# write final dataframe to file for explanatory exploration\n",
    "df.to_csv('master_df.csv')"
   ]
  },
  {
   "cell_type": "code",
   "execution_count": null,
   "metadata": {},
   "outputs": [],
   "source": []
  }
 ],
 "metadata": {
  "kernelspec": {
   "display_name": "Python 3",
   "language": "python",
   "name": "python3"
  },
  "language_info": {
   "codemirror_mode": {
    "name": "ipython",
    "version": 3
   },
   "file_extension": ".py",
   "mimetype": "text/x-python",
   "name": "python",
   "nbconvert_exporter": "python",
   "pygments_lexer": "ipython3",
   "version": "3.8.2"
  }
 },
 "nbformat": 4,
 "nbformat_minor": 2
}
